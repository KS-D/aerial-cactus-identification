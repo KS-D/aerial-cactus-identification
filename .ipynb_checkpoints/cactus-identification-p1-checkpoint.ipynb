{
 "cells": [
  {
   "cell_type": "markdown",
   "metadata": {},
   "source": [
    "# Cactus Identification\n",
    "\n",
    "## The first steps of building a model with keras.\n"
   ]
  },
  {
   "cell_type": "code",
   "execution_count": 21,
   "metadata": {},
   "outputs": [],
   "source": [
    "## Dependencies\n",
    "import warnings\n",
    "warnings.filterwarnings(\"ignore\", category=DeprecationWarning) ## this is so that my docker/tensorflow \n",
    "                                                               ## doesn't complain\n",
    "import keras\n",
    "import os\n",
    "import glob\n",
    "from keras_preprocessing.image import ImageDataGenerator\n",
    "from keras.layers import Dense, Activation, Flatten, Dropout, BatchNormalization\n",
    "from keras.layers import Conv2D, MaxPooling2D\n",
    "from keras import regularizers, optimizers\n",
    "import pandas as pd\n",
    "import numpy as np\n",
    "\n",
    "\n",
    "\n"
   ]
  },
  {
   "cell_type": "markdown",
   "metadata": {},
   "source": [
    "How the files should be layed out in the pwd for the below code to run"
   ]
  },
  {
   "cell_type": "code",
   "execution_count": 22,
   "metadata": {},
   "outputs": [
    {
     "name": "stdout",
     "output_type": "stream",
     "text": [
      "cactus-identification-p1.ipynb  \u001b[0m\u001b[01;34mtrain\u001b[0m/  train.csv\r\n"
     ]
    }
   ],
   "source": [
    "ls"
   ]
  },
  {
   "cell_type": "markdown",
   "metadata": {},
   "source": [
    "Using pandas to format the csv file, and make a data frame to label our data, because the pictures in the train/ directory are unlabeled. Building a data frame allows us to label the data from the train.csv file instead of sorting the photos into 2 directories. Below the first 10 photos are listed, along side their labels"
   ]
  },
  {
   "cell_type": "code",
   "execution_count": 23,
   "metadata": {},
   "outputs": [
    {
     "name": "stdout",
     "output_type": "stream",
     "text": [
      "                                     id  has_cactus\n",
      "0  0004be2cfeaba1c0361d39e2b000257b.jpg           1\n",
      "1  000c8a36845c0208e833c79c1bffedd1.jpg           1\n",
      "2  000d1e9a533f62e55c289303b072733d.jpg           1\n",
      "3  0011485b40695e9138e92d0b3fb55128.jpg           1\n",
      "4  0014d7a11e90b62848904c1418fc8cf2.jpg           1\n",
      "5  0017c3c18ddd57a2ea6f9848c79d83d2.jpg           1\n",
      "6  002134abf28af54575c18741b89dd2a4.jpg           0\n",
      "7  0024320f43bdd490562246435af4f90b.jpg           0\n",
      "8  002930423b9840e67e5a54afd4768a1e.jpg           1\n",
      "9  00351838ebf6dff6e53056e00a1e307c.jpg           1\n"
     ]
    }
   ],
   "source": [
    "data_frame = pd.read_csv('./train.csv')\n",
    "print(data_frame[:10])"
   ]
  },
  {
   "cell_type": "markdown",
   "metadata": {},
   "source": [
    "Below the the total number of photos that contain a cacutus, those labeled with ones, and then the number of photos the that do not contain cacti."
   ]
  },
  {
   "cell_type": "code",
   "execution_count": 24,
   "metadata": {},
   "outputs": [
    {
     "name": "stdout",
     "output_type": "stream",
     "text": [
      "{0: 4364, 1: 13136}\n"
     ]
    }
   ],
   "source": [
    "data_count = data_frame['has_cactus'].value_counts().to_dict()\n",
    "print(data_count)"
   ]
  },
  {
   "cell_type": "markdown",
   "metadata": {},
   "source": [
    "Based on the high number of photos that contain cacti, you could gain a fairly decent accuracy by guessing that all the photos contain a cactus. Below that accuracy is displayed"
   ]
  },
  {
   "cell_type": "code",
   "execution_count": 25,
   "metadata": {},
   "outputs": [
    {
     "name": "stdout",
     "output_type": "stream",
     "text": [
      "Accuracy to beat: 0.7506285714285714\n"
     ]
    }
   ],
   "source": [
    "## accuracy to beat would be just guessing that every photo contains a cactus\n",
    "acc_to_beat = 13136/17500\n",
    "print('Accuracy to beat:', acc_to_beat)"
   ]
  },
  {
   "cell_type": "markdown",
   "metadata": {},
   "source": [
    "This is really the accuracy to beat with this data set. In order for our model to be considered a \"success\" it must perform above a 75% accuracy."
   ]
  },
  {
   "cell_type": "markdown",
   "metadata": {},
   "source": [
    "## Building an ImageDataGenerator\n",
    "\n",
    "To work with the photos and an associated .csv file, keras has a flow_from_dataframe method that will pull all the associated photos and generate the labels.\n",
    "\n",
    "There are several parameters that can be to the flow_from_dataframe to manipulate how the data is generated. The train set is selected to have a size of 13,000 photos, the validation set contains 3,000 photos, and the test set contains 1,500 photos.\n"
   ]
  },
  {
   "cell_type": "code",
   "execution_count": 26,
   "metadata": {},
   "outputs": [
    {
     "name": "stdout",
     "output_type": "stream",
     "text": [
      "Found 13000 images.\n",
      "Found 3000 images.\n",
      "Found 1500 images.\n"
     ]
    }
   ],
   "source": [
    "columns = [\"has_cactus\"]\n",
    "\n",
    "datagen=ImageDataGenerator(rescale=1./255.)\n",
    "test_datagen=ImageDataGenerator(rescale=1./255.)\n",
    "\n",
    "\n",
    "train_generator=datagen.flow_from_dataframe(\n",
    "dataframe=data_frame[:13000],\n",
    "directory=\"./train\",\n",
    "x_col=\"id\",\n",
    "y_col=columns,\n",
    "batch_size=32,\n",
    "seed=6,\n",
    "shuffle=True,\n",
    "class_mode=\"other\",\n",
    "target_size=(32,32))\n",
    "\n",
    "valid_generator=datagen.flow_from_dataframe(\n",
    "dataframe=data_frame[13000:16000],\n",
    "directory=\"./train\",\n",
    "x_col=\"id\",\n",
    "y_col=columns,\n",
    "batch_size=32,\n",
    "seed=6,\n",
    "shuffle=True,\n",
    "class_mode=\"other\",\n",
    "target_size=(32,32))\n",
    "\n",
    "test_generator=test_datagen.flow_from_dataframe(\n",
    "dataframe=data_frame[16000:],\n",
    "directory=\"./train\",\n",
    "x_col=\"id\",\n",
    "y_col=columns,\n",
    "batch_size=32,\n",
    "seed=6,\n",
    "shuffle=True,\n",
    "class_mode=\"other\",\n",
    "target_size=(32,32))\n",
    "\n"
   ]
  },
  {
   "cell_type": "markdown",
   "metadata": {},
   "source": [
    "Fields of the data generator can be referenced in print statements."
   ]
  },
  {
   "cell_type": "code",
   "execution_count": 27,
   "metadata": {},
   "outputs": [
    {
     "name": "stdout",
     "output_type": "stream",
     "text": [
      "rgb\n",
      "channels_last\n",
      "(32, 32, 3)\n"
     ]
    }
   ],
   "source": [
    "print(train_generator.color_mode)\n",
    "print(train_generator.data_format)\n",
    "print(train_generator.image_shape)\n"
   ]
  },
  {
   "cell_type": "markdown",
   "metadata": {},
   "source": [
    "Below a convolutional neural netwrok is built to classify the aerial photos. It starts with 2 convolutional layers, that have 32 filters with kernals of size (3,3). The first layer has padding=same so that the output from that layer is the same size as the inputs. The next layer has valid padding so the size of the output from that layer is smaller than the input. Next is a maxpooling layer to pick the most pronounced features from the previous layer. Next there are 2 more convolutional layers. These layers both have 64 filters, and kernals once again of size (3,3). The first has same padding, the next has valid. another maxpooling layer is used, and the data is passed to a flatten layer. Then the output is fed into a dense network with 512 nodes. The output layer has 1 node, and sigmoid activation to classify whether the photo contains a cactus."
   ]
  },
  {
   "cell_type": "code",
   "execution_count": 30,
   "metadata": {},
   "outputs": [],
   "source": [
    "\n",
    "model = keras.models.Sequential()\n",
    "model.add(Conv2D(32, (3, 3),activation='relu', padding='same',\n",
    "                 input_shape=(32,32,3)))\n",
    "\n",
    "model.add(Conv2D(32, (3, 3), activation='relu'))\n",
    "\n",
    "model.add(MaxPooling2D(pool_size=(2, 2)))\n",
    "model.add(Conv2D(64, (3, 3), activation='relu', padding='same'))\n",
    "\n",
    "model.add(Conv2D(64, (3, 3), activation='relu'))\n",
    "\n",
    "model.add(MaxPooling2D(pool_size=(2, 2)))\n",
    "\n",
    "model.add(Flatten())\n",
    "model.add(Dense(512, activation='relu'))\n",
    "\n",
    "model.add(Dropout(0.5))\n",
    "model.add(Dense(1, activation='sigmoid'))\n",
    "model.compile(optimizer='rmsprop',loss=\"binary_crossentropy\",metrics=[\"accuracy\"])"
   ]
  },
  {
   "cell_type": "code",
   "execution_count": 31,
   "metadata": {},
   "outputs": [
    {
     "name": "stdout",
     "output_type": "stream",
     "text": [
      "WARNING:tensorflow:From /usr/local/lib/python3.5/dist-packages/tensorflow/python/ops/math_ops.py:3066: to_int32 (from tensorflow.python.ops.math_ops) is deprecated and will be removed in a future version.\n",
      "Instructions for updating:\n",
      "Use tf.cast instead.\n",
      "Epoch 1/10\n",
      "32/32 [==============================] - 16s 500ms/step - loss: 0.6485 - acc: 0.7070 - val_loss: 0.5491 - val_acc: 0.7637\n",
      "Epoch 2/10\n",
      "32/32 [==============================] - 1s 34ms/step - loss: 0.3919 - acc: 0.7930 - val_loss: 0.2708 - val_acc: 0.9229\n",
      "Epoch 3/10\n",
      "32/32 [==============================] - 1s 36ms/step - loss: 0.3455 - acc: 0.8623 - val_loss: 0.3575 - val_acc: 0.8228\n",
      "Epoch 4/10\n",
      "32/32 [==============================] - 1s 35ms/step - loss: 0.3120 - acc: 0.9004 - val_loss: 0.2024 - val_acc: 0.9229\n",
      "Epoch 5/10\n",
      "32/32 [==============================] - 1s 34ms/step - loss: 0.2154 - acc: 0.9141 - val_loss: 0.1928 - val_acc: 0.9189\n",
      "Epoch 6/10\n",
      "32/32 [==============================] - 1s 34ms/step - loss: 0.1968 - acc: 0.9219 - val_loss: 0.2378 - val_acc: 0.8967\n",
      "Epoch 7/10\n",
      "32/32 [==============================] - 1s 34ms/step - loss: 0.1734 - acc: 0.9316 - val_loss: 0.2073 - val_acc: 0.9160\n",
      "Epoch 8/10\n",
      "32/32 [==============================] - 1s 34ms/step - loss: 0.1645 - acc: 0.9434 - val_loss: 0.1608 - val_acc: 0.9512\n",
      "Epoch 9/10\n",
      "32/32 [==============================] - 1s 34ms/step - loss: 0.1694 - acc: 0.9395 - val_loss: 0.1376 - val_acc: 0.9557\n",
      "Epoch 10/10\n",
      "32/32 [==============================] - 1s 34ms/step - loss: 0.1540 - acc: 0.9414 - val_loss: 0.1958 - val_acc: 0.9326\n"
     ]
    }
   ],
   "source": [
    "eps = 10\n",
    "history = model.fit_generator(generator=train_generator, \n",
    "                    steps_per_epoch=32, \n",
    "                    validation_data=valid_generator,\n",
    "                    validation_steps=32,\n",
    "                    epochs=eps)"
   ]
  },
  {
   "cell_type": "code",
   "execution_count": 34,
   "metadata": {},
   "outputs": [],
   "source": [
    "model.save('./model.h5') ## saving the model"
   ]
  },
  {
   "cell_type": "code",
   "execution_count": 41,
   "metadata": {},
   "outputs": [],
   "source": [
    "import matplotlib.pyplot as plt\n",
    "from sklearn.metrics import confusion_matrix, classification_report\n",
    "\n",
    "def plot_loss_acc(history, eps):\n",
    "    history_dict = history.history\n",
    "    epochs = range(1, eps + 1)\n",
    "    __plot_loss(history_dict, epochs)\n",
    "    __plot_acc(history_dict, epochs)\n",
    "\n",
    "def __plot_loss(history_dict, epochs):\n",
    "    loss_values = history_dict['loss']\n",
    "    val_loss_values = history_dict['val_loss']\n",
    "\n",
    "   \n",
    "    plt.plot(epochs, loss_values, 'g', label='Training Loss')\n",
    "    plt.plot(epochs, val_loss_values, 'b', label='Validation Loss')\n",
    "    plt.title('Training and Validation Loss')\n",
    "    plt.xlabel('Epochs')\n",
    "    plt.ylabel('Loss')\n",
    "    plt.legend()\n",
    "\n",
    "    plt.show()\n",
    "\n",
    "def __plot_acc(history_dict, epochs):\n",
    "    plt.clf()\n",
    "\n",
    "    acc_values = history_dict['acc']\n",
    "    val_acc_values = history_dict['val_acc']\n",
    "\n",
    "    plt.plot(epochs, acc_values, 'g', label='Training Accuracy')\n",
    "    plt.plot(epochs, val_acc_values, 'b', label='Validation Accuracy')\n",
    "    plt.title('Training and Validation Accuracy')\n",
    "    plt.xlabel('Epochs')\n",
    "    plt.ylabel('Accuracy')\n",
    "    plt.legend()\n",
    "\n",
    "    plt.show()\n",
    "    \n",
    "def show_conf(model,y_test, x_test):\n",
    "    y_pred = model.predict(x_test)\n",
    "    y_pred_test = np.argmax(y_pred, axis=1)\n",
    "\n",
    "    print(confusion_matrix(y_test, y_pred_test))\n",
    "    print('\\n')\n",
    "    return y_pred_test, y_pred\n",
    "\n",
    "def prin_report(y_test, y_pred_test):\n",
    "    print(classification_report(y_test, y_pred_test))\n",
    "    \n",
    "def prin_accs(history):\n",
    "    print(\"training accuracy: {}\".format(history.history['acc'][-1]))\n",
    "    print(\"validation accuracy: {}\".format(history.history['val_acc'][-1]))\n",
    "    print(\"loss: {}\".format(history.history['loss'][-1]))\n",
    "    print(\"validation loss: {}\".format(history.history['val_loss'][-1]))\n",
    "    "
   ]
  },
  {
   "cell_type": "code",
   "execution_count": 39,
   "metadata": {},
   "outputs": [
    {
     "name": "stdout",
     "output_type": "stream",
     "text": [
      "training accuracy: 0.94140625\n",
      "validation accuracy: 0.9326171875\n",
      "loss: 0.15398488042410463\n",
      "validation loss: 0.19581801141612232\n"
     ]
    }
   ],
   "source": [
    "prin_accs(history)"
   ]
  },
  {
   "cell_type": "code",
   "execution_count": 40,
   "metadata": {},
   "outputs": [
    {
     "data": {
      "image/png": "[encoded data removed]",
      "text/plain": [
       "<Figure size 432x288 with 1 Axes>"
      ]
     },
     "metadata": {
      "needs_background": "light"
     },
     "output_type": "display_data"
    },
    {
     "data": {
      "image/png": "[encoded data removed]",
      "text/plain": [
       "<Figure size 432x288 with 1 Axes>"
      ]
     },
     "metadata": {
      "needs_background": "light"
     },
     "output_type": "display_data"
    }
   ],
   "source": [
    "plot_loss_acc(history, eps)"
   ]
  },
  {
   "cell_type": "code",
   "execution_count": 42,
   "metadata": {},
   "outputs": [
    {
     "name": "stdout",
     "output_type": "stream",
     "text": [
      "32/32 [==============================] - 0s 10ms/step\n"
     ]
    }
   ],
   "source": [
    "test_generator.reset()\n",
    "pred=model.predict_generator(test_generator,\n",
    "steps=32,\n",
    "verbose=1)\n"
   ]
  },
  {
   "cell_type": "code",
   "execution_count": 45,
   "metadata": {},
   "outputs": [],
   "source": []
  },
  {
   "cell_type": "code",
   "execution_count": 53,
   "metadata": {},
   "outputs": [
    {
     "name": "stdout",
     "output_type": "stream",
     "text": [
      "Confusion Matrix\n"
     ]
    }
   ],
   "source": []
  },
  {
   "cell_type": "code",
   "execution_count": null,
   "metadata": {},
   "outputs": [],
   "source": []
  }
 ],
 "metadata": {
  "kernelspec": {
   "display_name": "Python 3",
   "language": "python",
   "name": "python3"
  },
  "language_info": {
   "codemirror_mode": {
    "name": "ipython",
    "version": 3
   },
   "file_extension": ".py",
   "mimetype": "text/x-python",
   "name": "python",
   "nbconvert_exporter": "python",
   "pygments_lexer": "ipython3",
   "version": "3.5.2"
  }
 },
 "nbformat": 4,
 "nbformat_minor": 2
}
